{
  "nbformat": 4,
  "nbformat_minor": 0,
  "metadata": {
    "colab": {
      "name": "Create-streamlit-app.ipynb",
      "provenance": [],
      "collapsed_sections": [],
      "include_colab_link": true
    },
    "kernelspec": {
      "name": "python3",
      "display_name": "Python 3"
    }
  },
  "cells": [
    {
      "cell_type": "markdown",
      "metadata": {
        "id": "view-in-github",
        "colab_type": "text"
      },
      "source": [
        "<a href=\"https://colab.research.google.com/github/hsnam95/streamlit/blob/main/Create_streamlit_app.ipynb\" target=\"_parent\"><img src=\"https://colab.research.google.com/assets/colab-badge.svg\" alt=\"Open In Colab\"/></a>"
      ]
    },
    {
      "cell_type": "markdown",
      "metadata": {
        "id": "vWmc_s2ezvU0"
      },
      "source": [
        "# Run streamlit app from a Google Colab Notebook\n"
      ]
    },
    {
      "cell_type": "code",
      "metadata": {
        "id": "RvlYkCQ9vFiy"
      },
      "source": [
        "!pip install -q streamlit"
      ],
      "execution_count": null,
      "outputs": []
    },
    {
      "cell_type": "code",
      "source": [
        "!pip install pyngrok"
      ],
      "metadata": {
        "id": "kB6HhS8devv5"
      },
      "execution_count": null,
      "outputs": []
    },
    {
      "cell_type": "code",
      "source": [
        "!ngrok authtoken 27L9HeE3NqrbPbSvHD8dgEybi3w_6VH2auNrtJ3wtSpqM3vVz"
      ],
      "metadata": {
        "id": "HqKABaqQIbQT"
      },
      "execution_count": null,
      "outputs": []
    },
    {
      "cell_type": "code",
      "source": [
        "def serving(fn):\n",
        "  import os\n",
        "  !pkill -9 -f streamlit\n",
        "  !pkill -9 -f ngrok\n",
        "  from pyngrok import ngrok\n",
        "  os.system('streamlit run ' + fn + '.py&>/dev/null&')\n",
        "  publ_url = ngrok.connect(addr = '8501')\n",
        "  return publ_url"
      ],
      "metadata": {
        "id": "g9Z2QNZ-ItmG"
      },
      "execution_count": 16,
      "outputs": []
    },
    {
      "cell_type": "markdown",
      "source": [
        "Stock"
      ],
      "metadata": {
        "id": "YmHjXdfk9NNx"
      }
    },
    {
      "cell_type": "code",
      "source": [
        "!wget https://raw.githubusercontent.com/dataprofessor/streamlit_freecodecamp/main/app_1_simple_stock_price/myapp2.py\n",
        "!pip install yfinance\n",
        "serving('myapp2')"
      ],
      "metadata": {
        "id": "lDOw4Q9j9N55"
      },
      "execution_count": null,
      "outputs": []
    },
    {
      "cell_type": "markdown",
      "source": [
        "DNA"
      ],
      "metadata": {
        "id": "ASe9YHHP8W6Y"
      }
    },
    {
      "cell_type": "code",
      "source": [
        "!wget https://raw.githubusercontent.com/dataprofessor/streamlit_freecodecamp/main/app_2_simple_bioinformatics_dna/dna-app.py\n",
        "!wget https://raw.githubusercontent.com/dataprofessor/streamlit_freecodecamp/main/app_2_simple_bioinformatics_dna/dna-logo.jpg\n",
        "serving('dna-app')"
      ],
      "metadata": {
        "id": "QEc1q16g8QGX"
      },
      "execution_count": null,
      "outputs": []
    },
    {
      "cell_type": "markdown",
      "source": [
        "Basketball"
      ],
      "metadata": {
        "id": "0ulTgc1Ff-Yf"
      }
    },
    {
      "cell_type": "code",
      "source": [
        "!wget https://raw.githubusercontent.com/dataprofessor/streamlit_freecodecamp/main/app_3_eda_basketball/basketball_app.py\n",
        "serving('basketball_app')"
      ],
      "metadata": {
        "id": "-CIzJeRVf9aw"
      },
      "execution_count": null,
      "outputs": []
    },
    {
      "cell_type": "code",
      "source": [
        "!wget https://raw.githubusercontent.com/dataprofessor/streamlit_freecodecamp/main/app_4_eda_football/football_app.py\n",
        "serving('football_app')"
      ],
      "metadata": {
        "id": "Y1sKFfWR62Rq",
        "outputId": "d9f9f984-5260-49fe-fbd2-fff5254c9569",
        "colab": {
          "base_uri": "https://localhost:8080/"
        }
      },
      "execution_count": 17,
      "outputs": [
        {
          "output_type": "stream",
          "name": "stdout",
          "text": [
            "--2022-04-07 16:46:41--  https://raw.githubusercontent.com/dataprofessor/streamlit_freecodecamp/main/app_4_eda_football/football_app.py\n",
            "Resolving raw.githubusercontent.com (raw.githubusercontent.com)... 185.199.108.133, 185.199.109.133, 185.199.110.133, ...\n",
            "Connecting to raw.githubusercontent.com (raw.githubusercontent.com)|185.199.108.133|:443... connected.\n",
            "HTTP request sent, awaiting response... 200 OK\n",
            "Length: 2600 (2.5K) [text/plain]\n",
            "Saving to: ‘football_app.py’\n",
            "\n",
            "\rfootball_app.py       0%[                    ]       0  --.-KB/s               \rfootball_app.py     100%[===================>]   2.54K  --.-KB/s    in 0s      \n",
            "\n",
            "2022-04-07 16:46:42 (34.0 MB/s) - ‘football_app.py’ saved [2600/2600]\n",
            "\n"
          ]
        },
        {
          "output_type": "execute_result",
          "data": {
            "text/plain": [
              "<NgrokTunnel: \"http://c856-146-148-90-48.ngrok.io\" -> \"http://localhost:8501\">"
            ]
          },
          "metadata": {},
          "execution_count": 17
        }
      ]
    },
    {
      "cell_type": "markdown",
      "source": [
        "S&P500"
      ],
      "metadata": {
        "id": "Si4saR6z7KOa"
      }
    },
    {
      "cell_type": "code",
      "source": [
        "!wget https://raw.githubusercontent.com/dataprofessor/streamlit_freecodecamp/main/app_5_eda_sp500_stock/sp500-app.py\n",
        "serving('sp500-app')"
      ],
      "metadata": {
        "id": "y0y6lNbW7Jx9"
      },
      "execution_count": null,
      "outputs": []
    },
    {
      "cell_type": "markdown",
      "source": [
        "cryptocurrency"
      ],
      "metadata": {
        "id": "EA3LZ48D7vXg"
      }
    },
    {
      "cell_type": "code",
      "source": [
        "!wget https://raw.githubusercontent.com/dataprofessor/streamlit_freecodecamp/main/app_6_eda_cryptocurrency/crypto-price-app.py\n",
        "!wget https://raw.githubusercontent.com/dataprofessor/streamlit_freecodecamp/main/app_6_eda_cryptocurrency/logo.jpg\n",
        "serving('crypto-price-app')"
      ],
      "metadata": {
        "id": "ISZeT71S7v2N"
      },
      "execution_count": null,
      "outputs": []
    },
    {
      "cell_type": "markdown",
      "source": [
        "Iris"
      ],
      "metadata": {
        "id": "mCQELIvH8Ycq"
      }
    },
    {
      "cell_type": "code",
      "source": [
        "!wget https://raw.githubusercontent.com/dataprofessor/streamlit_freecodecamp/main/app_7_classification_iris/iris-ml-app.py\n",
        "serving('iris-ml-app')"
      ],
      "metadata": {
        "id": "vV6WWvuj8Y6-"
      },
      "execution_count": null,
      "outputs": []
    },
    {
      "cell_type": "markdown",
      "source": [
        "Penguins"
      ],
      "metadata": {
        "id": "_xGRjnVy80aP"
      }
    },
    {
      "cell_type": "code",
      "source": [
        "!wget https://raw.githubusercontent.com/dataprofessor/streamlit_freecodecamp/main/app_8_classification_penguins/penguins-app.py\n",
        "!wget https://raw.githubusercontent.com/dataprofessor/streamlit_freecodecamp/main/app_8_classification_penguins/penguins-model-building.py\n",
        "!wget https://raw.githubusercontent.com/dataprofessor/streamlit_freecodecamp/main/app_8_classification_penguins/penguins_cleaned.csv\n",
        "!wget https://raw.githubusercontent.com/dataprofessor/streamlit_freecodecamp/main/app_8_classification_penguins/penguins_clf.pkl\n",
        "!wget https://raw.githubusercontent.com/dataprofessor/streamlit_freecodecamp/main/app_8_classification_penguins/penguins_example.csv\n",
        "serving('penguins-app')"
      ],
      "metadata": {
        "id": "lb64MI-b80rf"
      },
      "execution_count": null,
      "outputs": []
    },
    {
      "cell_type": "markdown",
      "source": [
        "Boston housing"
      ],
      "metadata": {
        "id": "D-L0Z3JE9xdf"
      }
    },
    {
      "cell_type": "code",
      "source": [
        "!wget https://raw.githubusercontent.com/dataprofessor/streamlit_freecodecamp/main/app_9_regression_boston_housing/boston-house-ml-app.py\n",
        "!pip install shap\n",
        "serving('boston-house-ml-app')"
      ],
      "metadata": {
        "id": "7RfwtEEQ91B3",
        "outputId": "e9e71a46-4e01-496d-be34-aaf14ce18988",
        "colab": {
          "base_uri": "https://localhost:8080/"
        }
      },
      "execution_count": 25,
      "outputs": [
        {
          "output_type": "stream",
          "name": "stdout",
          "text": [
            "--2022-04-07 17:00:33--  https://raw.githubusercontent.com/dataprofessor/streamlit_freecodecamp/main/app_9_regression_boston_housing/boston-house-ml-app.py\n",
            "Resolving raw.githubusercontent.com (raw.githubusercontent.com)... 185.199.108.133, 185.199.109.133, 185.199.110.133, ...\n",
            "Connecting to raw.githubusercontent.com (raw.githubusercontent.com)|185.199.108.133|:443... connected.\n",
            "HTTP request sent, awaiting response... 200 OK\n",
            "Length: 2902 (2.8K) [text/plain]\n",
            "Saving to: ‘boston-house-ml-app.py.2’\n",
            "\n",
            "\rboston-house-ml-app   0%[                    ]       0  --.-KB/s               \rboston-house-ml-app 100%[===================>]   2.83K  --.-KB/s    in 0s      \n",
            "\n",
            "2022-04-07 17:00:33 (41.1 MB/s) - ‘boston-house-ml-app.py.2’ saved [2902/2902]\n",
            "\n",
            "Requirement already satisfied: shap in /usr/local/lib/python3.7/dist-packages (0.40.0)\n",
            "Requirement already satisfied: tqdm>4.25.0 in /usr/local/lib/python3.7/dist-packages (from shap) (4.63.0)\n",
            "Requirement already satisfied: slicer==0.0.7 in /usr/local/lib/python3.7/dist-packages (from shap) (0.0.7)\n",
            "Requirement already satisfied: numba in /usr/local/lib/python3.7/dist-packages (from shap) (0.51.2)\n",
            "Requirement already satisfied: cloudpickle in /usr/local/lib/python3.7/dist-packages (from shap) (1.3.0)\n",
            "Requirement already satisfied: pandas in /usr/local/lib/python3.7/dist-packages (from shap) (1.3.5)\n",
            "Requirement already satisfied: scipy in /usr/local/lib/python3.7/dist-packages (from shap) (1.4.1)\n",
            "Requirement already satisfied: packaging>20.9 in /usr/local/lib/python3.7/dist-packages (from shap) (21.3)\n",
            "Requirement already satisfied: numpy in /usr/local/lib/python3.7/dist-packages (from shap) (1.21.5)\n",
            "Requirement already satisfied: scikit-learn in /usr/local/lib/python3.7/dist-packages (from shap) (1.0.2)\n",
            "Requirement already satisfied: pyparsing!=3.0.5,>=2.0.2 in /usr/local/lib/python3.7/dist-packages (from packaging>20.9->shap) (3.0.7)\n",
            "Requirement already satisfied: setuptools in /usr/local/lib/python3.7/dist-packages (from numba->shap) (57.4.0)\n",
            "Requirement already satisfied: llvmlite<0.35,>=0.34.0.dev0 in /usr/local/lib/python3.7/dist-packages (from numba->shap) (0.34.0)\n",
            "Requirement already satisfied: python-dateutil>=2.7.3 in /usr/local/lib/python3.7/dist-packages (from pandas->shap) (2.8.2)\n",
            "Requirement already satisfied: pytz>=2017.3 in /usr/local/lib/python3.7/dist-packages (from pandas->shap) (2018.9)\n",
            "Requirement already satisfied: six>=1.5 in /usr/local/lib/python3.7/dist-packages (from python-dateutil>=2.7.3->pandas->shap) (1.15.0)\n",
            "Requirement already satisfied: joblib>=0.11 in /usr/local/lib/python3.7/dist-packages (from scikit-learn->shap) (1.1.0)\n",
            "Requirement already satisfied: threadpoolctl>=2.0.0 in /usr/local/lib/python3.7/dist-packages (from scikit-learn->shap) (3.1.0)\n"
          ]
        },
        {
          "output_type": "execute_result",
          "data": {
            "text/plain": [
              "<NgrokTunnel: \"http://7f34-146-148-90-48.ngrok.io\" -> \"http://localhost:8501\">"
            ]
          },
          "metadata": {},
          "execution_count": 25
        }
      ]
    }
  ]
}