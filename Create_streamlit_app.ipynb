{
  "nbformat": 4,
  "nbformat_minor": 0,
  "metadata": {
    "colab": {
      "name": "Create-streamlit-app.ipynb",
      "provenance": [],
      "collapsed_sections": [],
      "include_colab_link": true
    },
    "kernelspec": {
      "name": "python3",
      "display_name": "Python 3"
    }
  },
  "cells": [
    {
      "cell_type": "markdown",
      "metadata": {
        "id": "view-in-github",
        "colab_type": "text"
      },
      "source": [
        "<a href=\"https://colab.research.google.com/github/hsnam95/streamlit/blob/main/Create_streamlit_app.ipynb\" target=\"_parent\"><img src=\"https://colab.research.google.com/assets/colab-badge.svg\" alt=\"Open In Colab\"/></a>"
      ]
    },
    {
      "cell_type": "markdown",
      "metadata": {
        "id": "vWmc_s2ezvU0"
      },
      "source": [
        "# Run streamlit app from a Google Colab Notebook\n"
      ]
    },
    {
      "cell_type": "code",
      "metadata": {
        "id": "RvlYkCQ9vFiy"
      },
      "source": [
        "!pip install -q streamlit"
      ],
      "execution_count": null,
      "outputs": []
    },
    {
      "cell_type": "code",
      "source": [
        "!pip install pyngrok"
      ],
      "metadata": {
        "id": "kB6HhS8devv5"
      },
      "execution_count": null,
      "outputs": []
    },
    {
      "cell_type": "code",
      "source": [
        "!ngrok authtoken 27L9HeE3NqrbPbSvHD8dgEybi3w_6VH2auNrtJ3wtSpqM3vVz"
      ],
      "metadata": {
        "id": "HqKABaqQIbQT"
      },
      "execution_count": null,
      "outputs": []
    },
    {
      "cell_type": "code",
      "source": [
        "def serving(fn):\n",
        "  import os\n",
        "  !pkill -9 -f streamlit\n",
        "  !pkill -9 -f ngrok\n",
        "  from pyngrok import ngrok\n",
        "  os.system('streamlit run ' + fn + '.py&>/dev/null&')\n",
        "  publ_url = ngrok.connect(addr = '8501')\n",
        "  return publ_url"
      ],
      "metadata": {
        "id": "g9Z2QNZ-ItmG"
      },
      "execution_count": 16,
      "outputs": []
    },
    {
      "cell_type": "markdown",
      "source": [
        "Stock"
      ],
      "metadata": {
        "id": "YmHjXdfk9NNx"
      }
    },
    {
      "cell_type": "code",
      "source": [
        "!wget https://raw.githubusercontent.com/dataprofessor/streamlit_freecodecamp/main/app_1_simple_stock_price/myapp2.py\n",
        "!pip install yfinance"
      ],
      "metadata": {
        "id": "lDOw4Q9j9N55"
      },
      "execution_count": null,
      "outputs": []
    },
    {
      "cell_type": "code",
      "source": [
        "serving('myapp2')"
      ],
      "metadata": {
        "id": "5O0ZJxbO9aL4",
        "outputId": "5b374aa6-6cc8-4f5f-adee-0e856b21e0b0",
        "colab": {
          "base_uri": "https://localhost:8080/"
        }
      },
      "execution_count": 10,
      "outputs": [
        {
          "output_type": "execute_result",
          "data": {
            "text/plain": [
              "<NgrokTunnel: \"http://b673-146-148-90-48.ngrok.io\" -> \"http://localhost:8501\">"
            ]
          },
          "metadata": {},
          "execution_count": 10
        }
      ]
    },
    {
      "cell_type": "markdown",
      "source": [
        "DNA"
      ],
      "metadata": {
        "id": "ASe9YHHP8W6Y"
      }
    },
    {
      "cell_type": "code",
      "source": [
        "!wget https://raw.githubusercontent.com/dataprofessor/streamlit_freecodecamp/main/app_2_simple_bioinformatics_dna/dna-app.py\n",
        "!wget https://raw.githubusercontent.com/dataprofessor/streamlit_freecodecamp/main/app_2_simple_bioinformatics_dna/dna-logo.jpg"
      ],
      "metadata": {
        "id": "QEc1q16g8QGX"
      },
      "execution_count": null,
      "outputs": []
    },
    {
      "cell_type": "code",
      "source": [
        "serving('dna-app')"
      ],
      "metadata": {
        "id": "BjLBU9S48q5G",
        "outputId": "50114371-2e67-4fbb-d7e7-f92e7392bb78",
        "colab": {
          "base_uri": "https://localhost:8080/"
        }
      },
      "execution_count": 12,
      "outputs": [
        {
          "output_type": "execute_result",
          "data": {
            "text/plain": [
              "<NgrokTunnel: \"http://39c0-146-148-90-48.ngrok.io\" -> \"http://localhost:8501\">"
            ]
          },
          "metadata": {},
          "execution_count": 12
        }
      ]
    },
    {
      "cell_type": "markdown",
      "source": [
        "Basketball"
      ],
      "metadata": {
        "id": "0ulTgc1Ff-Yf"
      }
    },
    {
      "cell_type": "code",
      "source": [
        "!wget https://raw.githubusercontent.com/dataprofessor/streamlit_freecodecamp/main/app_3_eda_basketball/basketball_app.py\n",
        "serving('basketball_app')"
      ],
      "metadata": {
        "id": "-CIzJeRVf9aw",
        "outputId": "c43b6ead-31a2-454c-956e-c85fdd7a4232",
        "colab": {
          "base_uri": "https://localhost:8080/"
        }
      },
      "execution_count": 15,
      "outputs": [
        {
          "output_type": "stream",
          "name": "stdout",
          "text": [
            "--2022-04-07 14:50:15--  https://raw.githubusercontent.com/dataprofessor/streamlit_freecodecamp/main/app_3_eda_basketball/basketball_app.py\n",
            "Resolving raw.githubusercontent.com (raw.githubusercontent.com)... 185.199.108.133, 185.199.109.133, 185.199.110.133, ...\n",
            "Connecting to raw.githubusercontent.com (raw.githubusercontent.com)|185.199.108.133|:443... connected.\n",
            "HTTP request sent, awaiting response... 200 OK\n",
            "Length: 2466 (2.4K) [text/plain]\n",
            "Saving to: ‘basketball_app.py.1’\n",
            "\n",
            "\rbasketball_app.py.1   0%[                    ]       0  --.-KB/s               \rbasketball_app.py.1 100%[===================>]   2.41K  --.-KB/s    in 0s      \n",
            "\n",
            "2022-04-07 14:50:15 (39.9 MB/s) - ‘basketball_app.py.1’ saved [2466/2466]\n",
            "\n"
          ]
        },
        {
          "output_type": "execute_result",
          "data": {
            "text/plain": [
              "<NgrokTunnel: \"http://a5cb-146-148-90-48.ngrok.io\" -> \"http://localhost:8501\">"
            ]
          },
          "metadata": {},
          "execution_count": 15
        }
      ]
    }
  ]
}